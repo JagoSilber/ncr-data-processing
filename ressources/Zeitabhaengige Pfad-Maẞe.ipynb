{
 "cells": [
  {
   "cell_type": "code",
   "execution_count": 1,
   "metadata": {},
   "outputs": [],
   "source": [
    "import numpy as np\n",
    "import pandas as pd\n",
    "import networkx as nx\n",
    "import copy"
   ]
  },
  {
   "cell_type": "code",
   "execution_count": 3,
   "metadata": {},
   "outputs": [],
   "source": [
    "# Reduziere Pfad auf dedizierte Zeitraeume und wende Zeitunabhaengige Pfad-Maẞe an"
   ]
  },
  {
   "cell_type": "code",
   "execution_count": 6,
   "metadata": {},
   "outputs": [],
   "source": [
    "def timeframed_path(path, start_time, end_time):\n",
    "    path_copy = copy.deepcopy(path)\n",
    "    \n",
    "    for i in range(1,len(path_copy)-1):\n",
    "        path_copy[i][1] = np.sum([path[l][1] for l in range(i+1)])\n",
    "        pass\n",
    "    \n",
    "    for vertex in path_copy:\n",
    "        if vertex[1] < start_time or end_time < vertex[1]:\n",
    "            path_copy.remove(vertex)\n",
    "            pass\n",
    "        pass\n",
    "    return path_copy"
   ]
  },
  {
   "cell_type": "code",
   "execution_count": 7,
   "metadata": {},
   "outputs": [],
   "source": [
    "# Wende nun Zeitunabhaengige Pfad-Maẞe an"
   ]
  },
  {
   "cell_type": "code",
   "execution_count": null,
   "metadata": {},
   "outputs": [],
   "source": []
  }
 ],
 "metadata": {
  "kernelspec": {
   "display_name": "Python 3",
   "language": "python",
   "name": "python3"
  },
  "language_info": {
   "codemirror_mode": {
    "name": "ipython",
    "version": 3
   },
   "file_extension": ".py",
   "mimetype": "text/x-python",
   "name": "python",
   "nbconvert_exporter": "python",
   "pygments_lexer": "ipython3",
   "version": "3.7.4"
  }
 },
 "nbformat": 4,
 "nbformat_minor": 4
}
