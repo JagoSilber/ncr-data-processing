{
 "cells": [
  {
   "cell_type": "code",
   "execution_count": 30,
   "metadata": {},
   "outputs": [],
   "source": [
    "import numpy as np\n",
    "import pandas as pd\n",
    "import matplotlib.pyplot as plt\n",
    "import copy\n",
    "from matplotlib.pyplot import figure\n",
    "import ass"
   ]
  },
  {
   "cell_type": "code",
   "execution_count": 10,
   "metadata": {},
   "outputs": [],
   "source": [
    "path = r'C:\\Users\\jagos\\Desktop\\Speech REcognition\\english_test.ass'"
   ]
  },
  {
   "cell_type": "code",
   "execution_count": 54,
   "metadata": {},
   "outputs": [],
   "source": [
    "def pause_labeling_for_dataframe(data):\n",
    "    df = copy.deepcopy(data)\n",
    "    labels = []\n",
    "    \n",
    "    for i in range(len(df[0])):\n",
    "        if df[0][i] == '':\n",
    "            labels.append('pause')\n",
    "            pass\n",
    "        else:\n",
    "            labels.append('word')\n",
    "            pass\n",
    "        pass\n",
    "    \n",
    "    df.append(labels)\n",
    "    \n",
    "    return df"
   ]
  },
  {
   "cell_type": "code",
   "execution_count": 102,
   "metadata": {},
   "outputs": [],
   "source": [
    "def pause_diagram(df):\n",
    "    \n",
    "    x1_values=[]\n",
    "    x2_values=[]\n",
    "    y1_values=[]\n",
    "    y2_values=[]\n",
    "    \n",
    "    for i in range(len(df[2])):\n",
    "        if df[2][i]=='pause':\n",
    "            y2_values.append(-df[1][i])\n",
    "            x2_values.append(i)\n",
    "            pass\n",
    "        else:\n",
    "            y1_values.append(df[1][i])\n",
    "            x1_values.append(i)\n",
    "            pass\n",
    "        pass\n",
    "    \n",
    "    figure(figsize=(10, 4), dpi=150)\n",
    "    \n",
    " \n",
    "    plt.stem(x1_values, y1_values, markerfmt=' ', basefmt='black', linefmt='blue', use_line_collection=True)\n",
    "    plt.stem(x2_values, y2_values, markerfmt=' ', basefmt='black', linefmt='crimson', use_line_collection=True)\n",
    "    plt.show()\n",
    "    pass"
   ]
  },
  {
   "cell_type": "code",
   "execution_count": 103,
   "metadata": {},
   "outputs": [
    {
     "data": {
      "image/png": "[encoded data removed]",
      "text/plain": [
       "<Figure size 1500x600 with 1 Axes>"
      ]
     },
     "metadata": {
      "needs_background": "light"
     },
     "output_type": "display_data"
    }
   ],
   "source": [
    "pause_diagram(pause_labeling_for_dataframe(ASSPath_to_2DTimeSeries(path)))"
   ]
  },
  {
   "cell_type": "code",
   "execution_count": 1,
   "metadata": {},
   "outputs": [],
   "source": [
    "# ms-Bereich so richtig? Gegenchecken"
   ]
  },
  {
   "cell_type": "code",
   "execution_count": null,
   "metadata": {},
   "outputs": [],
   "source": []
  },
  {
   "cell_type": "code",
   "execution_count": null,
   "metadata": {},
   "outputs": [],
   "source": []
  },
  {
   "cell_type": "code",
   "execution_count": null,
   "metadata": {},
   "outputs": [],
   "source": []
  },
  {
   "cell_type": "code",
   "execution_count": null,
   "metadata": {},
   "outputs": [],
   "source": []
  },
  {
   "cell_type": "code",
   "execution_count": null,
   "metadata": {},
   "outputs": [],
   "source": []
  },
  {
   "cell_type": "code",
   "execution_count": null,
   "metadata": {},
   "outputs": [],
   "source": []
  },
  {
   "cell_type": "code",
   "execution_count": 105,
   "metadata": {},
   "outputs": [],
   "source": [
    "def Line_to_SpokenWord(line):\n",
    "    word = ''\n",
    "    linesplit = line.split()\n",
    "    \n",
    "    for i in range(len(linesplit)):\n",
    "        if '{\\\\r}' in linesplit[i]:\n",
    "            word = linesplit[i][15:]\n",
    "            word = word[:-4]\n",
    "            pass\n",
    "        else:\n",
    "            pass\n",
    "        pass\n",
    "    \n",
    "    return word"
   ]
  },
  {
   "cell_type": "code",
   "execution_count": 106,
   "metadata": {},
   "outputs": [],
   "source": [
    "def TimeData_to_Microseconds(event_time):\n",
    "    return event_time.microseconds + event_time.seconds*1000000"
   ]
  },
  {
   "cell_type": "code",
   "execution_count": 107,
   "metadata": {},
   "outputs": [],
   "source": [
    "def ASSPath_to_2DTimeSeries(path):\n",
    "    time_series = [[],[]]\n",
    "    \n",
    "    with open(path, encoding='utf_8_sig') as file:\n",
    "        document = ass.parse(file)\n",
    "    \n",
    "    for event in document.events:\n",
    "        time_series[0].append(Line_to_SpokenWord(event.text))\n",
    "        time_series[1].append(TimeData_to_Microseconds(event.end) - TimeData_to_Microseconds(event.start))\n",
    "        pass\n",
    "    \n",
    "    return time_series"
   ]
  },
  {
   "cell_type": "code",
   "execution_count": null,
   "metadata": {},
   "outputs": [],
   "source": []
  }
 ],
 "metadata": {
  "kernelspec": {
   "display_name": "Python 3",
   "language": "python",
   "name": "python3"
  },
  "language_info": {
   "codemirror_mode": {
    "name": "ipython",
    "version": 3
   },
   "file_extension": ".py",
   "mimetype": "text/x-python",
   "name": "python",
   "nbconvert_exporter": "python",
   "pygments_lexer": "ipython3",
   "version": "3.7.4"
  }
 },
 "nbformat": 4,
 "nbformat_minor": 4
}
