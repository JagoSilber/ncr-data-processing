{
 "cells": [
  {
   "cell_type": "code",
   "execution_count": 16,
   "metadata": {},
   "outputs": [],
   "source": [
    "import numpy as np\n",
    "import pandas as pd\n",
    "import ass"
   ]
  },
  {
   "cell_type": "code",
   "execution_count": 17,
   "metadata": {},
   "outputs": [],
   "source": [
    "def Line_to_SpokenWord(line):\n",
    "    word = ''\n",
    "    linesplit = line.split()\n",
    "    \n",
    "    for i in range(len(linesplit)):\n",
    "        if '{\\\\r}' in linesplit[i]:\n",
    "            word = linesplit[i][15:]\n",
    "            word = word[:-4]\n",
    "            pass\n",
    "        else:\n",
    "            pass\n",
    "        pass\n",
    "    \n",
    "    return word"
   ]
  },
  {
   "cell_type": "code",
   "execution_count": 18,
   "metadata": {},
   "outputs": [],
   "source": [
    "def TimeData_to_Microseconds(event_time):\n",
    "    return event_time.microseconds + event_time.seconds*1000000"
   ]
  },
  {
   "cell_type": "code",
   "execution_count": 19,
   "metadata": {},
   "outputs": [],
   "source": [
    "def ASSPath_to_2DTimeSeries(path):\n",
    "    time_series = [[],[]]\n",
    "    \n",
    "    with open(path, encoding='utf_8_sig') as file:\n",
    "        document = ass.parse(file)\n",
    "    \n",
    "    for event in document.events:\n",
    "        time_series[0].append(Line_to_SpokenWord(event.text))\n",
    "        time_series[1].append(TimeData_to_Microseconds(event.end) - TimeData_to_Microseconds(event.start))\n",
    "        pass\n",
    "    \n",
    "    return time_series"
   ]
  },
  {
   "cell_type": "code",
   "execution_count": 20,
   "metadata": {},
   "outputs": [],
   "source": [
    "path = r'C:\\Users\\jagos\\Desktop\\Speech REcognition\\english_test.ass'"
   ]
  },
  {
   "cell_type": "code",
   "execution_count": 21,
   "metadata": {},
   "outputs": [
    {
     "data": {
      "text/plain": [
       "[['A',\n",
       "  '',\n",
       "  'grasshopper',\n",
       "  '',\n",
       "  'spent',\n",
       "  '',\n",
       "  'the',\n",
       "  '',\n",
       "  'summer',\n",
       "  '',\n",
       "  'hopping',\n",
       "  '',\n",
       "  'about',\n",
       "  '',\n",
       "  'in',\n",
       "  '',\n",
       "  'the',\n",
       "  '',\n",
       "  'sun',\n",
       "  '',\n",
       "  'and',\n",
       "  '',\n",
       "  'singing',\n",
       "  '',\n",
       "  'to',\n",
       "  '',\n",
       "  'its',\n",
       "  '',\n",
       "  \"heart's\",\n",
       "  '',\n",
       "  'content.',\n",
       "  'One',\n",
       "  '',\n",
       "  'day,',\n",
       "  '',\n",
       "  'an',\n",
       "  '',\n",
       "  'ant',\n",
       "  '',\n",
       "  'went',\n",
       "  '',\n",
       "  'hurrying',\n",
       "  '',\n",
       "  'by,',\n",
       "  '',\n",
       "  'looking',\n",
       "  '',\n",
       "  'very',\n",
       "  '',\n",
       "  'hot',\n",
       "  '',\n",
       "  'and',\n",
       "  '',\n",
       "  'weary.'],\n",
       " [60000,\n",
       "  40000,\n",
       "  540000,\n",
       "  120000,\n",
       "  260000,\n",
       "  20000,\n",
       "  80000,\n",
       "  60000,\n",
       "  280000,\n",
       "  80000,\n",
       "  340000,\n",
       "  40000,\n",
       "  280000,\n",
       "  40000,\n",
       "  60000,\n",
       "  40000,\n",
       "  80000,\n",
       "  40000,\n",
       "  240000,\n",
       "  140000,\n",
       "  80000,\n",
       "  40000,\n",
       "  340000,\n",
       "  140000,\n",
       "  110000,\n",
       "  60000,\n",
       "  80000,\n",
       "  40000,\n",
       "  240000,\n",
       "  60000,\n",
       "  420000,\n",
       "  100000,\n",
       "  40000,\n",
       "  200000,\n",
       "  460000,\n",
       "  60000,\n",
       "  100000,\n",
       "  180000,\n",
       "  40000,\n",
       "  200000,\n",
       "  40000,\n",
       "  340000,\n",
       "  40000,\n",
       "  220000,\n",
       "  620000,\n",
       "  260000,\n",
       "  60000,\n",
       "  200000,\n",
       "  60000,\n",
       "  180000,\n",
       "  140000,\n",
       "  80000,\n",
       "  60000,\n",
       "  280000]]"
      ]
     },
     "execution_count": 21,
     "metadata": {},
     "output_type": "execute_result"
    }
   ],
   "source": [
    "ASSPath_to_2DTimeSeries(path)"
   ]
  },
  {
   "cell_type": "code",
   "execution_count": null,
   "metadata": {},
   "outputs": [],
   "source": []
  }
 ],
 "metadata": {
  "kernelspec": {
   "display_name": "Python 3",
   "language": "python",
   "name": "python3"
  },
  "language_info": {
   "codemirror_mode": {
    "name": "ipython",
    "version": 3
   },
   "file_extension": ".py",
   "mimetype": "text/x-python",
   "name": "python",
   "nbconvert_exporter": "python",
   "pygments_lexer": "ipython3",
   "version": "3.7.4"
  }
 },
 "nbformat": 4,
 "nbformat_minor": 4
}
