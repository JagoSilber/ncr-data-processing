{
 "cells": [
  {
   "cell_type": "code",
   "execution_count": 106,
   "metadata": {},
   "outputs": [],
   "source": [
    "import numpy as np\n",
    "import pandas as pd\n",
    "import copy"
   ]
  },
  {
   "cell_type": "code",
   "execution_count": 107,
   "metadata": {},
   "outputs": [],
   "source": [
    "# AOI-Data = [[d_1, d_2, d_3, ..], [AOI(d_1), AOI(d_2), AOI(d_3), ...]]"
   ]
  },
  {
   "cell_type": "code",
   "execution_count": 114,
   "metadata": {},
   "outputs": [],
   "source": [
    "def AOIData_to_Path_Durations(data):\n",
    "    path = []\n",
    "    indices = []\n",
    "    \n",
    "    for i in range(len(data[1]) - 1):\n",
    "        if data[1][i] != data[1][i+1]:\n",
    "            indices.append(i)\n",
    "            pass\n",
    "        pass\n",
    "    \n",
    "    indices.append(len(data[1]) - 1)\n",
    "    \n",
    "    print(indices)\n",
    "    \n",
    "    for j in range(len(indices)):\n",
    "        path.append([data[1][indices[j]], np.sum(data[0][:(indices[j]+1)])])\n",
    "        pass\n",
    "    \n",
    "    path_copy = copy.deepcopy(path)\n",
    "    \n",
    "    for l in range(1, len(path)):\n",
    "        path_copy[l][1] = path[l][1] - path[l-1][1]\n",
    "        pass\n",
    "    \n",
    "    return path_copy"
   ]
  },
  {
   "cell_type": "code",
   "execution_count": 115,
   "metadata": {},
   "outputs": [],
   "source": [
    "data = [[1, 2, 3, 4, 5, 6, 7], ['blue', 'blue', 'blue', 'green', 'red', 'green', 'green']]"
   ]
  },
  {
   "cell_type": "code",
   "execution_count": 116,
   "metadata": {},
   "outputs": [
    {
     "name": "stdout",
     "output_type": "stream",
     "text": [
      "[2, 3, 4, 6]\n"
     ]
    },
    {
     "data": {
      "text/plain": [
       "[['blue', 6], ['green', 4], ['red', 5], ['green', 13]]"
      ]
     },
     "execution_count": 116,
     "metadata": {},
     "output_type": "execute_result"
    }
   ],
   "source": [
    "AOIData_to_Path_Durations(data)"
   ]
  }
 ],
 "metadata": {
  "kernelspec": {
   "display_name": "Python 3",
   "language": "python",
   "name": "python3"
  },
  "language_info": {
   "codemirror_mode": {
    "name": "ipython",
    "version": 3
   },
   "file_extension": ".py",
   "mimetype": "text/x-python",
   "name": "python",
   "nbconvert_exporter": "python",
   "pygments_lexer": "ipython3",
   "version": "3.7.4"
  }
 },
 "nbformat": 4,
 "nbformat_minor": 4
}
