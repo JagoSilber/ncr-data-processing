{
 "cells": [
  {
   "cell_type": "code",
   "execution_count": 1,
   "metadata": {},
   "outputs": [],
   "source": [
    "import networkx as nx"
   ]
  },
  {
   "cell_type": "code",
   "execution_count": 2,
   "metadata": {},
   "outputs": [],
   "source": [
    "# Nodes with type and text\n",
    "def Strings_to_NodeAttributes(s1,s2):\n",
    "    return {'type': s1, 'text': s2}\n",
    "\n",
    "N = [(1, Strings_to_NodeAttributes('air', 'CO2-Freisetzung aus dem Wasser in die Atmosphaere')),\n",
    "     (2, Strings_to_NodeAttributes('water', 'Anstieg der Wassertemperatur der Ozeane')),\n",
    "     (3, Strings_to_NodeAttributes('water', 'Anstieg des Meeresspiegels')),\n",
    "     (4, Strings_to_NodeAttributes('air', 'Zunahme von Treibhausgasen in der Atmosphaere')),\n",
    "     (5, Strings_to_NodeAttributes('air', 'Zunahme der Temperatur der Atmosphaere')),\n",
    "     (6, Strings_to_NodeAttributes('ice', 'Schmelze von Gletschern und Eisplatten')),\n",
    "     (7, Strings_to_NodeAttributes('human', 'Globale Migration')),\n",
    "     (8, Strings_to_NodeAttributes('water', 'Versauerung der Ozeane')),\n",
    "     (9, Strings_to_NodeAttributes('land', 'Globale ortsabhaengige Klimaaenderungen')),\n",
    "     (10, Strings_to_NodeAttributes('air', 'Rueckgang der Albedo')),\n",
    "     (11, Strings_to_NodeAttributes('water', 'Zunahme toxischer Algen')),\n",
    "     (12, Strings_to_NodeAttributes('water', 'Rueckgang der Korallenriffe und damit maritimer Lebensraeume')),\n",
    "     (13, Strings_to_NodeAttributes('human', 'Verbreitung von Krankheiten in neuen Gebieten')),\n",
    "     (14, Strings_to_NodeAttributes('land', 'Zunahme von Duerreperioden und Starkregenphasen'))\n",
    "     #,(15, Strings_to_NodeAttributes('dummy_node', 'Blick kann nicht eindeutig einem Node zugeordnet werden'))\n",
    "    ]\n",
    "\n",
    "\n",
    "# Directed Edges\n",
    "\n",
    "E = [(1,4), (2,1), (2,3), (2,6), (3,7), (4,5), (4,8), (5,2), (5,9), (5,6), (6,3), (6,10), (8,11), (8,12), (9,13), (9,14), (10,5), (11,12), (14,7)]\n",
    "\n",
    "# Create the Graph\n",
    "\n",
    "G = nx.DiGraph()\n",
    "G.add_nodes_from(N)\n",
    "G.add_edges_from(E)"
   ]
  },
  {
   "cell_type": "code",
   "execution_count": null,
   "metadata": {},
   "outputs": [],
   "source": []
  }
 ],
 "metadata": {
  "kernelspec": {
   "display_name": "Python 3",
   "language": "python",
   "name": "python3"
  },
  "language_info": {
   "codemirror_mode": {
    "name": "ipython",
    "version": 3
   },
   "file_extension": ".py",
   "mimetype": "text/x-python",
   "name": "python",
   "nbconvert_exporter": "python",
   "pygments_lexer": "ipython3",
   "version": "3.7.4"
  }
 },
 "nbformat": 4,
 "nbformat_minor": 4
}
