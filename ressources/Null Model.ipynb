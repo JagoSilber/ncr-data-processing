{
 "cells": [
  {
   "cell_type": "code",
   "execution_count": 1,
   "metadata": {},
   "outputs": [],
   "source": [
    "import numpy as np\n",
    "import pandas as pd\n",
    "import networkx as nx\n",
    "import copy"
   ]
  },
  {
   "cell_type": "code",
   "execution_count": 2,
   "metadata": {},
   "outputs": [],
   "source": [
    "def RandomPath(start, length):\n",
    "    path = [start]\n",
    "    l = []\n",
    "    \n",
    "    for i in range(1, length+1):\n",
    "        j = np.random.randint(13)\n",
    "        \n",
    "        for k in range(1, path[i-1]):\n",
    "            l.append(k)\n",
    "            pass\n",
    "        \n",
    "        for m in range(path[i-1]+1, 15):\n",
    "            l.append(m)\n",
    "            pass\n",
    "        \n",
    "        path.append(l[j])\n",
    "        l = []\n",
    "        pass\n",
    "    \n",
    "    return path"
   ]
  },
  {
   "cell_type": "code",
   "execution_count": null,
   "metadata": {},
   "outputs": [],
   "source": []
  }
 ],
 "metadata": {
  "kernelspec": {
   "display_name": "Python 3",
   "language": "python",
   "name": "python3"
  },
  "language_info": {
   "codemirror_mode": {
    "name": "ipython",
    "version": 3
   },
   "file_extension": ".py",
   "mimetype": "text/x-python",
   "name": "python",
   "nbconvert_exporter": "python",
   "pygments_lexer": "ipython3",
   "version": "3.7.4"
  }
 },
 "nbformat": 4,
 "nbformat_minor": 4
}
