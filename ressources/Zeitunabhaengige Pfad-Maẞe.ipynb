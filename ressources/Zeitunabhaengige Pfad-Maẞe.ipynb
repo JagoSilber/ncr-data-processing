{
 "cells": [
  {
   "cell_type": "code",
   "execution_count": 1,
   "metadata": {},
   "outputs": [],
   "source": [
    "import numpy as np\n",
    "import pandas as pd\n",
    "import networkx as nx\n",
    "import copy"
   ]
  },
  {
   "cell_type": "code",
   "execution_count": 2,
   "metadata": {},
   "outputs": [],
   "source": [
    "# MEASURES FOR EVALUATING PATHS\n",
    "\n",
    "# How often was node v visited?\n",
    "def number_of_vertex_visits(path, vertex):\n",
    "    return path.count(vertex)\n",
    "\n",
    "\n",
    "# How often was type t visited?\n",
    "def number_of_type_visits(path, t):\n",
    "    count = 0\n",
    "    \n",
    "    for i in range(len(path)):\n",
    "        if G.nodes[path[i]]['type']==t:\n",
    "            count += 1\n",
    "            pass\n",
    "        pass\n",
    "    \n",
    "    return count\n",
    "\n",
    "\n",
    "# How many loops are in the path?\n",
    "def number_of_loops(path):\n",
    "    count = 0\n",
    "    for vertex in list(G.nodes()):\n",
    "        if vertex in path:\n",
    "            count += number_of_vertex_visits(path, vertex) -1\n",
    "            pass\n",
    "        else:\n",
    "            pass\n",
    "        pass\n",
    "    \n",
    "    return count\n",
    "\n",
    "\n",
    "# Percentage of Edgefollows?\n",
    "def number_of_edgefollows(path):\n",
    "    lst = [(path[i],path[i+1]) for i in range(len(path)-1)]\n",
    "    count = 0\n",
    "    \n",
    "    for l in lst:\n",
    "        if l in list(G.edges()):\n",
    "            count += 1\n",
    "            pass\n",
    "        pass\n",
    "    \n",
    "    return count"
   ]
  },
  {
   "cell_type": "code",
   "execution_count": null,
   "metadata": {},
   "outputs": [],
   "source": []
  }
 ],
 "metadata": {
  "kernelspec": {
   "display_name": "Python 3",
   "language": "python",
   "name": "python3"
  },
  "language_info": {
   "codemirror_mode": {
    "name": "ipython",
    "version": 3
   },
   "file_extension": ".py",
   "mimetype": "text/x-python",
   "name": "python",
   "nbconvert_exporter": "python",
   "pygments_lexer": "ipython3",
   "version": "3.7.4"
  }
 },
 "nbformat": 4,
 "nbformat_minor": 4
}
