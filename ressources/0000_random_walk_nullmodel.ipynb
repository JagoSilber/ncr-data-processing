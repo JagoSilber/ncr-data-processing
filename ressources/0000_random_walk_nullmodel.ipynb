{
 "cells": [
  {
   "cell_type": "code",
   "execution_count": 22,
   "metadata": {},
   "outputs": [],
   "source": [
    "import numpy as np\n",
    "import pandas as pd\n",
    "import networkx as nx\n",
    "import copy"
   ]
  },
  {
   "cell_type": "code",
   "execution_count": 23,
   "metadata": {},
   "outputs": [],
   "source": [
    "G = nx.DiGraph()\n",
    "\n",
    "# Nodes with type and text\n",
    "def Strings_to_NodeAttributes(s1,s2):\n",
    "    return {'type': s1, 'text': s2}\n",
    "\n",
    "N = [(1, Strings_to_NodeAttributes('air', 'CO2-Freisetzung aus dem Wasser in die Atmosphaere')),\n",
    "     (2, Strings_to_NodeAttributes('water', 'Anstieg der Wassertemperatur der Ozeane')),\n",
    "     (3, Strings_to_NodeAttributes('water', 'Anstieg des Meeresspiegels')),\n",
    "     (4, Strings_to_NodeAttributes('air', 'Zunahme von Treibhausgasen in der Atmosphaere')),\n",
    "     (5, Strings_to_NodeAttributes('air', 'Zunahme der Temperatur der Atmosphaere')),\n",
    "     (6, Strings_to_NodeAttributes('ice', 'Schmelze von Gletschern und Eisplatten')),\n",
    "     (7, Strings_to_NodeAttributes('human', 'Globale Migration')),\n",
    "     (8, Strings_to_NodeAttributes('water', 'Versauerung der Ozeane')),\n",
    "     (9, Strings_to_NodeAttributes('land', 'Globale ortsabhaengige Klimaaenderungen')),\n",
    "     (10, Strings_to_NodeAttributes('air', 'Rueckgang der Albedo')),\n",
    "     (11, Strings_to_NodeAttributes('water', 'Zunahme toxischer Algen')),\n",
    "     (12, Strings_to_NodeAttributes('water', 'Rueckgang der Korallenriffe und damit maritimer Lebensraeume')),\n",
    "     (13, Strings_to_NodeAttributes('human', 'Verbreitung von Krankheiten in neuen Gebieten')),\n",
    "     (14, Strings_to_NodeAttributes('land', 'Zunahme von Duerreperioden und Starkregenphasen'))\n",
    "     #,(15, Strings_to_NodeAttributes('dummy_node', 'Blick kann nicht eindeutig einem Node zugeordnet werden'))\n",
    "    ]\n",
    "\n",
    "\n",
    "# Directed Edges\n",
    "\n",
    "E = [(1,4), (2,1), (2,3), (2,6), (3,7), (4,5), (4,8), (5,2), (5,9), (5,6), (6,3), (6,10), (8,11), (8,12), (9,13), (9,14), (10,5), (11,12), (14,7)]\n",
    "\n",
    "# Create the Graph\n",
    "\n",
    "G = nx.DiGraph()\n",
    "G.add_nodes_from(N)\n",
    "G.add_edges_from(E)\n"
   ]
  },
  {
   "cell_type": "code",
   "execution_count": 20,
   "metadata": {},
   "outputs": [],
   "source": [
    "# We are now creating a function, that spits out a random path on a completion of G. We do this on a completion, since vision might jump from node to node \n",
    "# and does not necessarily follow the given edges of G. However we are going to use these edges later on for metrics.\n",
    "\n",
    "def RandomPath(start, length):\n",
    "    path = [start]\n",
    "    l = []\n",
    "    \n",
    "    for i in range(1, length+1):\n",
    "        j = np.random.randint(13)\n",
    "        \n",
    "        for k in range(1, path[i-1]):\n",
    "            l.append(k)\n",
    "            pass\n",
    "        \n",
    "        for m in range(path[i-1]+1, 15):\n",
    "            l.append(m)\n",
    "            pass\n",
    "        \n",
    "        path.append(l[j])\n",
    "        l = []\n",
    "        pass\n",
    "    \n",
    "    return path"
   ]
  },
  {
   "cell_type": "code",
   "execution_count": 21,
   "metadata": {},
   "outputs": [],
   "source": [
    "# MEASURES FOR EVALUATING PATHS\n",
    "\n",
    "# How often was node v visited?\n",
    "def number_of_vertex_visits(path, vertex):\n",
    "    return path.count(vertex)\n",
    "\n",
    "\n",
    "# How often was type t visited?\n",
    "def number_of_type_visits(path, t):\n",
    "    count = 0\n",
    "    \n",
    "    for i in range(len(path)):\n",
    "        if G.nodes[path[i]]['type']==t:\n",
    "            count += 1\n",
    "            pass\n",
    "        pass\n",
    "    \n",
    "    return count\n",
    "\n",
    "\n",
    "# How many loops are in the path?\n",
    "def number_of_loops(path):\n",
    "    count = 0\n",
    "    for vertex in list(G.nodes()):\n",
    "        if vertex in path:\n",
    "            count += number_of_vertex_visits(path, vertex) -1\n",
    "            pass\n",
    "        else:\n",
    "            pass\n",
    "        pass\n",
    "    \n",
    "    return count\n",
    "\n",
    "\n",
    "# Percentage of Edgefollows?\n",
    "def number_of_edgefollows(path):\n",
    "    lst = [(path[i],path[i+1]) for i in range(len(path)-1)]\n",
    "    count = 0\n",
    "    \n",
    "    for l in lst:\n",
    "        if l in list(G.edges()):\n",
    "            count += 1\n",
    "            pass\n",
    "        pass\n",
    "    \n",
    "    return count"
   ]
  },
  {
   "cell_type": "code",
   "execution_count": 16,
   "metadata": {},
   "outputs": [
    {
     "data": {
      "text/plain": [
       "10"
      ]
     },
     "execution_count": 16,
     "metadata": {},
     "output_type": "execute_result"
    }
   ],
   "source": [
    "number_of_edgefollows(RandomPath(1,100)) "
   ]
  },
  {
   "cell_type": "code",
   "execution_count": null,
   "metadata": {},
   "outputs": [],
   "source": []
  }
 ],
 "metadata": {
  "kernelspec": {
   "display_name": "Python 3",
   "language": "python",
   "name": "python3"
  },
  "language_info": {
   "codemirror_mode": {
    "name": "ipython",
    "version": 3
   },
   "file_extension": ".py",
   "mimetype": "text/x-python",
   "name": "python",
   "nbconvert_exporter": "python",
   "pygments_lexer": "ipython3",
   "version": "3.7.4"
  }
 },
 "nbformat": 4,
 "nbformat_minor": 4
}
